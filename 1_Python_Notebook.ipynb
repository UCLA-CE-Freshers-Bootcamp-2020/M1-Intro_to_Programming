{
  "nbformat": 4,
  "nbformat_minor": 0,
  "metadata": {
    "colab": {
      "name": "1_Python_Notebook.ipynb",
      "provenance": [],
      "collapsed_sections": []
    },
    "kernelspec": {
      "name": "python3",
      "display_name": "Python 3"
    }
  },
  "cells": [
    {
      "cell_type": "markdown",
      "metadata": {
        "id": "YfIsU0tXfG9d",
        "colab_type": "text"
      },
      "source": [
        "**Introduction**"
      ]
    },
    {
      "cell_type": "markdown",
      "metadata": {
        "id": "3KqwDlkFfA5G",
        "colab_type": "text"
      },
      "source": [
        "Welcome to this short tutorial of Python! In this tutorial, we are going to use some basic construsts in Python to build a really simple Tic Tac Toe game. This tutorial is designed as a first step for you to computer programming. We will cover the following concepts along the way:\n",
        "\n",
        "*   Functions\n",
        "*   Variables, Operators and Data Types\n",
        "*   Control Statements and Loops\n",
        "*   Abstractions and Object-oriented programming (OOP)\n",
        "\n",
        "\n",
        "Control-Flow\n",
        "Basic data structures\n",
        "Basic I/O operations\n",
        "After this tutorial, we hope you will be able to use these basic building block to build more creative programs. In addition, computer programming is waaaay more than just these. So we encourage you to continue the journey and discover more cool stuffs about programming."
      ]
    },
    {
      "cell_type": "markdown",
      "metadata": {
        "id": "amw5pUmMf98S",
        "colab_type": "text"
      },
      "source": [
        "\n",
        "**The Very First Step: Hello World**"
      ]
    },
    {
      "cell_type": "markdown",
      "metadata": {
        "id": "9VXZ_psNgFri",
        "colab_type": "text"
      },
      "source": [
        "It's sort of like a tradition in programming, we always print a \"hello world\" text on screen as our first program.\n",
        "\n",
        "Give it a try! Press the \"Run\" button"
      ]
    },
    {
      "cell_type": "code",
      "metadata": {
        "id": "N4__DlBzgJDH",
        "colab_type": "code",
        "colab": {}
      },
      "source": [
        "print(\"Hello, World!\")"
      ],
      "execution_count": null,
      "outputs": []
    },
    {
      "cell_type": "markdown",
      "metadata": {
        "id": "EdDc1sNOgNrK",
        "colab_type": "text"
      },
      "source": [
        "\n",
        "A little bit of explanations here.\n",
        "\n",
        "`print` is a function in Python that let you output text. In this case, we wish to print the text \"Hello, World\" to screen. So we simply put it in the parenthesis that follows the function name. `print` can be very handy in Python programming. It can also print out other stuffs such as numbers and lists. That is why we use `print` a lot during the debugging process, it can directly show us the program state at the time of execution. We will be talking more about functions later.\n",
        "\n",
        "**Exercise A:**\n",
        "\n",
        "Write a Python program that takes in two numbers from the user and outputs the sum of those numbers. Use function for the addition. Your prompt should look like this:\n",
        "\n",
        "\n",
        "```\n",
        "Input number 1: \n",
        "Input number 2:\n",
        "The sum of these numbers is: \n",
        "```\n",
        "Note that in Python 3, `raw_input()` is replaced by `input()`. To input numbers, use the data type `float()` or `int()` before `input()`.\n"
      ]
    },
    {
      "cell_type": "code",
      "metadata": {
        "id": "bmex_i4lgbUJ",
        "colab_type": "code",
        "colab": {}
      },
      "source": [
        "#Begin your code here:\n",
        "\n",
        "#Define your function here\n",
        "#\n",
        "#\n",
        "#\n",
        "#End of function\n",
        "\n",
        "#Define your main program here\n",
        "#\n",
        "#\n",
        "#\n",
        "#\n",
        "#End your code here"
      ],
      "execution_count": null,
      "outputs": []
    },
    {
      "cell_type": "markdown",
      "metadata": {
        "id": "0DS1jdnvjHNM",
        "colab_type": "text"
      },
      "source": [
        "**Exercise B:**"
      ]
    },
    {
      "cell_type": "markdown",
      "metadata": {
        "id": "hnvnJB_2jPfL",
        "colab_type": "text"
      },
      "source": [
        "Write a Python program that does the following: \n",
        "\n",
        "1. Store the marks of 10 students in a list. The name of the students are saved in another list.\n",
        "\n",
        "\n",
        "*   List 1: 23, 30, 55, 43, 67, 38, 47, 10, 5, 64\n",
        "*   List 2: A, B, C, D, E, F, G, H, I, J\n",
        "\n",
        "2. Find out the following:\n",
        "\n",
        "\n",
        "* The number of students with marks between 40 and 70.\n",
        "* Number of students with marks less than 10.\n",
        "* Is student 'Z' in the list?\n",
        "* Index of all the marks greater than 33.\n",
        "* Add a new student 'L' in the list, who scored 50 points.\n",
        "* Sort list 1 and accordingly sort list 2 so that the indices of marks matches the students.\n",
        "* Find the student who scored 67 points"
      ]
    },
    {
      "cell_type": "code",
      "metadata": {
        "id": "h-0YK-iIlgr1",
        "colab_type": "code",
        "colab": {}
      },
      "source": [
        "#Begin your program here\n",
        "\n",
        "\n",
        "\n",
        "\n",
        "\n",
        "\n",
        "\n",
        "\n",
        "\n",
        "\n",
        "\n",
        "\n",
        "\n",
        "\n",
        "\n",
        "\n",
        "\n",
        "\n",
        "\n",
        "\n",
        "\n",
        "\n",
        "\n",
        "\n",
        "\n",
        "\n",
        "\n",
        "\n",
        "#End your program here"
      ],
      "execution_count": null,
      "outputs": []
    },
    {
      "cell_type": "markdown",
      "metadata": {
        "id": "e-mGqFpqllmn",
        "colab_type": "text"
      },
      "source": [
        "**Exercise C:**"
      ]
    },
    {
      "cell_type": "markdown",
      "metadata": {
        "id": "AkRsxP1ulq-D",
        "colab_type": "text"
      },
      "source": [
        "Write the following programs in Python:\n",
        "1. Check if a number from a user is prime or not. If invalid inputs are put through the console, then show an error message and revert back to the number query. The user should be able to quit the program by pressing the letter 'Q'.\n",
        "\n",
        "2. A two number (floating point) calculator with the following functions:\n",
        "\n",
        "*   Addition\n",
        "*   Subtraction\n",
        "* Multiplication\n",
        "* Division\n",
        "* Square Root\n",
        "\n",
        "If invalid inputs are put through the console, then show an error message and revert back to the number queries. The user should be able to quit the program by pressing the letter 'Q'."
      ]
    },
    {
      "cell_type": "code",
      "metadata": {
        "id": "jXZYATfTm_Jz",
        "colab_type": "code",
        "colab": {}
      },
      "source": [
        "#Begin your program here\n",
        "\n",
        "\n",
        "\n",
        "\n",
        "\n",
        "\n",
        "\n",
        "\n",
        "\n",
        "\n",
        "\n",
        "\n",
        "\n",
        "\n",
        "\n",
        "\n",
        "\n",
        "\n",
        "\n",
        "\n",
        "\n",
        "\n",
        "\n",
        "\n",
        "\n",
        "\n",
        "\n",
        "\n",
        "#End your program here"
      ],
      "execution_count": null,
      "outputs": []
    }
  ]
}