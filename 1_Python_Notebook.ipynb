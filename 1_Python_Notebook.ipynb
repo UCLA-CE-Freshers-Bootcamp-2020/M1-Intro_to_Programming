{
  "nbformat": 4,
  "nbformat_minor": 0,
  "metadata": {
    "colab": {
      "name": "1_Python_Notebook.ipynb",
      "provenance": [],
      "collapsed_sections": []
    },
    "kernelspec": {
      "name": "python3",
      "display_name": "Python 3"
    }
  },
  "cells": [
    {
      "cell_type": "markdown",
      "metadata": {
        "id": "YfIsU0tXfG9d",
        "colab_type": "text"
      },
      "source": [
        "**Introduction**"
      ]
    },
    {
      "cell_type": "markdown",
      "metadata": {
        "id": "3KqwDlkFfA5G",
        "colab_type": "text"
      },
      "source": [
        "Welcome to this short tutorial of Python! In this tutorial, we are going to use some basic construsts in Python to build a really simple Tic Tac Toe game. This tutorial is designed as a first step for you to computer programming. We will cover the following concepts along the way:\n",
        "\n",
        "*   Functions\n",
        "*   Variables, Operators and Data Types\n",
        "*   Control Statements and Loops\n",
        "*   Abstractions and Object-oriented programming (OOP)\n",
        "\n",
        "\n",
        "Control-Flow\n",
        "Basic data structures\n",
        "Basic I/O operations\n",
        "After this tutorial, we hope you will be able to use these basic building block to build more creative programs. In addition, computer programming is waaaay more than just these. So we encourage you to continue the journey and discover more cool stuffs about programming."
      ]
    },
    {
      "cell_type": "markdown",
      "metadata": {
        "id": "amw5pUmMf98S",
        "colab_type": "text"
      },
      "source": [
        "\n",
        "**The Very First Step: Hello World**"
      ]
    },
    {
      "cell_type": "markdown",
      "metadata": {
        "id": "9VXZ_psNgFri",
        "colab_type": "text"
      },
      "source": [
        "It's sort of like a tradition in programming, we always print a \"hello world\" text on screen as our first program.\n",
        "\n",
        "Give it a try! Press the \"Run\" button"
      ]
    },
    {
      "cell_type": "code",
      "metadata": {
        "id": "N4__DlBzgJDH",
        "colab_type": "code",
        "colab": {}
      },
      "source": [
        "print(\"Hello World\")"
      ],
      "execution_count": null,
      "outputs": []
    },
    {
      "cell_type": "markdown",
      "metadata": {
        "id": "EdDc1sNOgNrK",
        "colab_type": "text"
      },
      "source": [
        "\n",
        "A little bit of explanations here.\n",
        "\n",
        "`print` is a function in Python that let you output text. In this case, we wish to print the text \"Hello, World\" to screen. So we simply put it in the parenthesis that follows the function name. `print` can be very handy in Python programming. It can also print out other stuffs such as numbers and lists. That is why we use `print` a lot during the debugging process, it can directly show us the program state at the time of execution. We will be talking more about functions later.\n",
        "\n",
        "**Exercise A:**\n",
        "\n",
        "Write a Python program that takes in two numbers from the user and outputs the sum of those numbers. Use function for the addition. Your prompt should look like this:\n",
        "\n",
        "\n",
        "```\n",
        "Input number 1: \n",
        "Input number 2:\n",
        "The sum of these numbers is: \n",
        "```\n",
        "Note that in Python 3, `raw_input()` is replaced by `input()`. To input numbers, use the data type `float()` or `int()` before `input()`.\n"
      ]
    },
    {
      "cell_type": "code",
      "metadata": {
        "id": "bmex_i4lgbUJ",
        "colab_type": "code",
        "colab": {}
      },
      "source": [
        "#Begin your code here:\n",
        "\n",
        "#Define your function here\n",
        "def add_num(num1, num2):\n",
        "  return num1+num2\n",
        "#End of function\n",
        "\n",
        "#Define your main program here\n",
        "x = float(input('Input number 1: '))\n",
        "y = float(input('Input number 2: '))\n",
        "print('The sum of these numbers is: ',add_num(x,y))\n",
        "#End your code here"
      ],
      "execution_count": null,
      "outputs": []
    },
    {
      "cell_type": "markdown",
      "metadata": {
        "id": "0DS1jdnvjHNM",
        "colab_type": "text"
      },
      "source": [
        "**Exercise B:**"
      ]
    },
    {
      "cell_type": "markdown",
      "metadata": {
        "id": "hnvnJB_2jPfL",
        "colab_type": "text"
      },
      "source": [
        "Write a Python program that does the following: \n",
        "\n",
        "1. Store the marks of 10 students in a list. The name of the students are saved in another list.\n",
        "\n",
        "\n",
        "*   List 1: 23, 30, 55, 43, 67, 38, 47, 10, 5, 64\n",
        "*   List 2: A, B, C, D, E, F, G, H, I, J\n",
        "\n",
        "2. Find out the following:\n",
        "\n",
        "\n",
        "* The number of students with marks between 40 and 70.\n",
        "* Number of students with marks less than 10.\n",
        "* Is student 'Z' in the list?\n",
        "* Index of all the marks greater than 33.\n",
        "* Add a new student 'L' in the list, who scored 50 points.\n",
        "* Sort list 1 and accordingly sort list 2 so that the indices of marks matches the students.\n",
        "* Find the student who scored 67 points"
      ]
    },
    {
      "cell_type": "code",
      "metadata": {
        "id": "h-0YK-iIlgr1",
        "colab_type": "code",
        "colab": {
          "base_uri": "https://localhost:8080/",
          "height": 153
        },
        "outputId": "71e821af-a624-4adf-9092-f6353e923496"
      },
      "source": [
        "#Begin your program here\n",
        "#Part 1:\n",
        "marks = [23, 30, 55, 43, 67, 38, 47, 10, 5, 64]\n",
        "student = ['A', 'B', 'C', 'D', 'E', 'F', 'G', 'H', 'I', 'J']\n",
        "\n",
        "#Part 2:\n",
        "#a:\n",
        "print('Part A:',len([i for i in marks if (i > 40 and i < 70)])) #list comprehension\n",
        "\n",
        "#b:\n",
        "print('Part B:',len([j for j in marks if j > 10])) #list comprehension\n",
        "\n",
        "#c:\n",
        "print('Part C:', 'Z' in student)\n",
        "\n",
        "#d:\n",
        "student.append('L')\n",
        "print('Part D: New student list:',student)\n",
        "marks.append(50)\n",
        "print('Part D: New marks list:',marks)\n",
        "#to insert items in the middle, use insert(idx, val) function.\n",
        "\n",
        "#e\n",
        "#zipping attaches two lists together, sorted is used for zipped list\n",
        "sorted_list = sorted(zip(marks,student),reverse=False) #sorted returns a new sorted list\n",
        "print('Part F:',sorted_list) \n",
        "#same example could be done using dictionaries\n",
        "\n",
        "#f\n",
        "print('Part E:',[idx for idx, k in enumerate(marks) if k > 33]) #list comprehension\n",
        "\n",
        "#g\n",
        "print('Part G:',student[marks.index(67)])\n",
        "\n",
        "#End your program here"
      ],
      "execution_count": null,
      "outputs": [
        {
          "output_type": "stream",
          "text": [
            "Part A: 5\n",
            "Part B: 8\n",
            "Part C: False\n",
            "Part D: New student list: ['A', 'B', 'C', 'D', 'E', 'F', 'G', 'H', 'I', 'J', 'L']\n",
            "Part D: New marks list: [23, 30, 55, 43, 67, 38, 47, 10, 5, 64, 50]\n",
            "Part E: [2, 3, 4, 5, 6, 9, 10]\n",
            "Part F: [(5, 'I'), (10, 'H'), (23, 'A'), (30, 'B'), (38, 'F'), (43, 'D'), (47, 'G'), (50, 'L'), (55, 'C'), (64, 'J'), (67, 'E')]\n",
            "Part G: E\n"
          ],
          "name": "stdout"
        }
      ]
    },
    {
      "cell_type": "markdown",
      "metadata": {
        "id": "e-mGqFpqllmn",
        "colab_type": "text"
      },
      "source": [
        "**Exercise C:**"
      ]
    },
    {
      "cell_type": "markdown",
      "metadata": {
        "id": "AkRsxP1ulq-D",
        "colab_type": "text"
      },
      "source": [
        "Write the following programs in Python:\n",
        "1. Check if a number from a user is prime or not. If invalid inputs are put through the console, then show an error message and revert back to the number query. The user should be able to quit the program by pressing the letter 'Q'.\n",
        "\n",
        "2. A two number (floating point) calculator with the following functions:\n",
        "\n",
        "*   Addition\n",
        "*   Subtraction\n",
        "* Multiplication\n",
        "* Division\n",
        "* Square Root\n",
        "\n",
        "If invalid inputs are put through the console, then show an error message and revert back to the number queries. The user should be able to quit the program by pressing the letter 'Q'."
      ]
    },
    {
      "cell_type": "code",
      "metadata": {
        "id": "jXZYATfTm_Jz",
        "colab_type": "code",
        "colab": {}
      },
      "source": [
        "#Begin your program here\n",
        "#Part 1:\n",
        "import math\n",
        "\n",
        "def is_prime(num):\n",
        "  if(num>1): #case for 0\n",
        "    for i in range(2,num):\n",
        "      if(num%i)==0:\n",
        "        return 0\n",
        "        break\n",
        "      else:\n",
        "        return 1\n",
        "  else:\n",
        "    return 0\n",
        "\n",
        "def prime_num_checker():\n",
        "  while True:\n",
        "       userInput = input('Please enter an integer: ')   \n",
        "       if(userInput=='Q'):\n",
        "         print('Bye.')\n",
        "         break\n",
        "       elif(userInput.isdigit()):\n",
        "         if(is_prime(int(userInput))):\n",
        "           print('The number entered is prime.')\n",
        "         else:\n",
        "           print('The number entered is not prime.')\n",
        "       else:\n",
        "         print('Invalid input.')\n",
        "\n",
        "prime_num_checker()\n",
        "\n",
        "#you could also use try-except /try-catch statements for error checking\n"
      ],
      "execution_count": null,
      "outputs": []
    },
    {
      "cell_type": "code",
      "metadata": {
        "id": "HMvjR3Rwv1Xz",
        "colab_type": "code",
        "colab": {}
      },
      "source": [
        "#Part 2:\n",
        "\n",
        "import math\n",
        "\n",
        "op_array = ['+','-','*','/','S']\n",
        "\n",
        "def is_number(s):\n",
        "    try:\n",
        "        float(s)\n",
        "        return True\n",
        "    except ValueError:\n",
        "        return False\n",
        "\n",
        "def calc(num1, num2, user_op):\n",
        "  if(user_op == '+'):\n",
        "    print(num1 + num2)\n",
        "  elif(user_op == '-'):\n",
        "    print(num1 - num2)\n",
        "  elif(user_op == '*'):\n",
        "    print(num1 * num2)\n",
        "  elif(user_op == '/'):\n",
        "    print(num1 / num2)\n",
        "  else:\n",
        "    if(num1>0):\n",
        "      print(math.sqrt(num1))\n",
        "    else:\n",
        "      print('-ve numbers do not have sqrt()')\n",
        "    if(num2>0):\n",
        "      print(math.sqrt(num2))\n",
        "    else:\n",
        "      print('-ve numbers do not have sqrt()')\n",
        "\n",
        "\n",
        "while True:\n",
        "  userInputA = input('Please enter first number (Q for quit): ')\n",
        "  if(userInputA=='Q'):\n",
        "    print('Bye.')\n",
        "    break\n",
        "  elif(is_number(userInputA)):\n",
        "    while True:\n",
        "      userInputB = input('Please enter second number (Q for quit): ')\n",
        "      if(userInputB=='Q'):\n",
        "        print('Bye.')\n",
        "        break\n",
        "      elif(is_number(userInputB)):\n",
        "        while True:\n",
        "          op = input('Enter operation: +, -, *, /, S (Q for quit): ')\n",
        "          if(op=='Q'):\n",
        "            print('Bye.')\n",
        "            break\n",
        "          elif(op in op_array):\n",
        "            res = calc(float(userInputA),float(userInputB),op)\n",
        "            break\n",
        "          else:\n",
        "            print('Invalid operation')  \n",
        "        break   \n",
        "      else:\n",
        "        print('Invalid input.')\n",
        "    break\n",
        "  else:\n",
        "    print('Invalid input.')\n",
        "#End your program here"
      ],
      "execution_count": null,
      "outputs": []
    },
    {
      "cell_type": "code",
      "metadata": {
        "id": "mibkGmEtwC1u",
        "colab_type": "code",
        "colab": {}
      },
      "source": [
        ""
      ],
      "execution_count": null,
      "outputs": []
    }
  ]
}